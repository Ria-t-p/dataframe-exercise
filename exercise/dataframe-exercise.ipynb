{
  "nbformat": 4,
  "nbformat_minor": 0,
  "metadata": {
    "colab": {
      "provenance": []
    },
    "kernelspec": {
      "name": "python3",
      "display_name": "Python 3"
    },
    "language_info": {
      "name": "python"
    }
  },
  "cells": [
    {
      "cell_type": "code",
      "execution_count": 58,
      "metadata": {
        "id": "b9jT6g8piYej",
        "colab": {
          "base_uri": "https://localhost:8080/"
        },
        "outputId": "9186ea18-0472-4a66-b56d-5f8001c0b8a9"
      },
      "outputs": [
        {
          "output_type": "stream",
          "name": "stdout",
          "text": [
            "   OrderID   Product     Category  Quantity  Price Customer Region  Total\n",
            "0     1001    Laptop  Electronics         2    800    Alice  North   1600\n",
            "1     1002     Mouse  Accessories         5     20      Bob  South    100\n",
            "2     1003  Keyboard  Accessories         3     50  Charlie   East    150\n",
            "3     1004   Monitor  Electronics         4    200    Diana   West    800\n",
            "4     1005    Laptop  Electronics         1    850    Ethan  North    850\n"
          ]
        }
      ],
      "source": [
        "import pandas as pd\n",
        "\n",
        "# Sample sales dataset (20 rows)\n",
        "data = {\n",
        "    \"OrderID\": range(1001, 1021),\n",
        "    \"Product\": [\n",
        "        \"Laptop\", \"Mouse\", \"Keyboard\", \"Monitor\", \"Laptop\",\n",
        "        \"Headphones\", \"Mouse\", \"Chair\", \"Desk\", \"Laptop\",\n",
        "        \"Printer\", \"Keyboard\", \"Monitor\", \"Mouse\", \"Laptop\",\n",
        "        \"Headphones\", \"Desk\", \"Monitor\", \"Printer\", \"Chair\"\n",
        "    ],\n",
        "    \"Category\": [\n",
        "        \"Electronics\", \"Accessories\", \"Accessories\", \"Electronics\", \"Electronics\",\n",
        "        \"Accessories\", \"Accessories\", \"Furniture\", \"Furniture\", \"Electronics\",\n",
        "        \"Electronics\", \"Accessories\", \"Electronics\", \"Accessories\", \"Electronics\",\n",
        "        \"Accessories\", \"Furniture\", \"Electronics\", \"Electronics\", \"Furniture\"\n",
        "    ],\n",
        "    \"Quantity\": [2, 5, 3, 4, 1, 6, 10, 2, 1, 3, 2, 4, 2, 7, 5, 3, 2, 4, 1, 6],\n",
        "    \"Price\": [800, 20, 50, 200, 850, 40, 25, 150, 300, 900, 120, 55, 250, 20, 750, 35, 280, 220, 110, 180],\n",
        "    \"Customer\": [\n",
        "        \"Alice\", \"Bob\", \"Charlie\", \"Diana\", \"Ethan\",\n",
        "        \"Fiona\", \"George\", \"Hannah\", \"Ian\", \"Jane\",\n",
        "        \"Kyle\", \"Laura\", \"Mike\", \"Nina\", \"Oscar\",\n",
        "        \"Paul\", \"Queen\", \"Robert\", \"Sarah\", \"Tom\"\n",
        "    ],\n",
        "    \"Region\": [\n",
        "        \"North\", \"South\", \"East\", \"West\", \"North\",\n",
        "        \"South\", \"East\", \"West\", \"North\", \"South\",\n",
        "        \"East\", \"West\", \"North\", \"South\", \"East\",\n",
        "        \"West\", \"North\", \"South\", \"East\", \"West\"\n",
        "    ]\n",
        "}\n",
        "\n",
        "# Create DataFrame\n",
        "df = pd.DataFrame(data)\n",
        "\n",
        "# Compute Total column\n",
        "df[\"Total\"] = df[\"Quantity\"] * df[\"Price\"]\n",
        "\n",
        "print(df.head())\n"
      ]
    },
    {
      "cell_type": "code",
      "source": [
        "# Step 2: Show first 5 rows\n",
        "print(df.head())\n",
        "\n",
        "# Step 3: Print DataFrame shape\n",
        "print(\"Shape:\", df.shape)\n",
        "\n",
        "# Step 4: Show column names\n",
        "print(\"Columns:\", df.columns)"
      ],
      "metadata": {
        "colab": {
          "base_uri": "https://localhost:8080/"
        },
        "id": "K25QDGGcoDOR",
        "outputId": "dad61948-57f1-4f11-9c02-aa730a53fc7b"
      },
      "execution_count": 59,
      "outputs": [
        {
          "output_type": "stream",
          "name": "stdout",
          "text": [
            "   OrderID   Product     Category  Quantity  Price Customer Region  Total\n",
            "0     1001    Laptop  Electronics         2    800    Alice  North   1600\n",
            "1     1002     Mouse  Accessories         5     20      Bob  South    100\n",
            "2     1003  Keyboard  Accessories         3     50  Charlie   East    150\n",
            "3     1004   Monitor  Electronics         4    200    Diana   West    800\n",
            "4     1005    Laptop  Electronics         1    850    Ethan  North    850\n",
            "Shape: (20, 8)\n",
            "Columns: Index(['OrderID', 'Product', 'Category', 'Quantity', 'Price', 'Customer',\n",
            "       'Region', 'Total'],\n",
            "      dtype='object')\n"
          ]
        }
      ]
    },
    {
      "cell_type": "code",
      "source": [
        "# Step 1: Add Discount column (10% if Quantity >= 5 else 0)\n",
        "df[\"Discount\"] = 0\n",
        "df.loc[df[\"Quantity\"] >= 5, \"Discount\"] = df[\"Total\"] * 0.10\n",
        "\n",
        "# Step 2: Add FinalTotal column (Total - discount)\n",
        "df[\"FinalTotal\"] = df[\"Total\"] - df[\"Discount\"]\n",
        "\n",
        "# Step 3: Show selected columns\n",
        "print(df[[\"OrderID\", \"Product\", \"Total\", \"Discount\", \"FinalTotal\"]].head())"
      ],
      "metadata": {
        "id": "vFQwmZ5nq6Iv",
        "colab": {
          "base_uri": "https://localhost:8080/"
        },
        "outputId": "6f673b20-bf4d-4007-e351-31a4d6962667"
      },
      "execution_count": 60,
      "outputs": [
        {
          "output_type": "stream",
          "name": "stdout",
          "text": [
            "   OrderID   Product  Total  Discount  FinalTotal\n",
            "0     1001    Laptop   1600         0        1600\n",
            "1     1002     Mouse    100        10          90\n",
            "2     1003  Keyboard    150         0         150\n",
            "3     1004   Monitor    800         0         800\n",
            "4     1005    Laptop    850         0         850\n"
          ]
        }
      ]
    },
    {
      "cell_type": "code",
      "source": [
        "# Step 1: Create new record\n",
        "new_row = {\n",
        "    \"OrderID\": 1021,\n",
        "    \"Product\": \"Tablet\",\n",
        "    \"Category\": \"Electronics\",\n",
        "    \"Quantity\": 2,\n",
        "    \"Price\": 450,\n",
        "    \"Customer\": \"Victor\",\n",
        "    \"Region\": \"East\"\n",
        "}\n",
        "\n",
        "\n",
        "new_row_df = pd.DataFrame([new_row])\n",
        "df = pd.concat([df, new_row_df], ignore_index=True)\n",
        "\n",
        "df = df.drop_duplicates(subset=['OrderID'], keep='last')\n",
        "\n",
        "\n",
        "df[\"Total\"] = df[\"Quantity\"] * df[\"Price\"]\n",
        "df[\"Discount\"] = 0\n",
        "df.loc[df[\"Quantity\"] >= 5, \"Discount\"] = df[\"Total\"] * 0.10\n",
        "df[\"FinalTotal\"] = df[\"Total\"] - df[\"Discount\"]\n",
        "\n",
        "\n",
        "print(df.tail(3))"
      ],
      "metadata": {
        "colab": {
          "base_uri": "https://localhost:8080/"
        },
        "id": "9fd77H22uoXq",
        "outputId": "ea27f9f3-d7cf-44cd-87d0-e4d7ca4a33bd"
      },
      "execution_count": 61,
      "outputs": [
        {
          "output_type": "stream",
          "name": "stdout",
          "text": [
            "    OrderID  Product     Category  Quantity  Price Customer Region  Total  \\\n",
            "18     1019  Printer  Electronics         1    110    Sarah   East    110   \n",
            "19     1020    Chair    Furniture         6    180      Tom   West   1080   \n",
            "20     1021   Tablet  Electronics         2    450   Victor   East    900   \n",
            "\n",
            "    Discount  FinalTotal  \n",
            "18         0         110  \n",
            "19       108         972  \n",
            "20         0         900  \n"
          ]
        }
      ]
    },
    {
      "cell_type": "code",
      "source": [
        "# Step 1: Update price of Mouse products\n",
        "df.loc[df[\"Product\"] == \"Mouse\", \"Price\"] = 30\n",
        "\n",
        "# Step 2: Recalculate Total for affected rows\n",
        "df[\"Total\"] = df[\"Quantity\"] * df[\"Price\"]\n",
        "\n",
        "# Step 3: Show only Mouse rows\n",
        "print(df[df[\"Product\"] == \"Mouse\"])\n"
      ],
      "metadata": {
        "colab": {
          "base_uri": "https://localhost:8080/"
        },
        "id": "fDu-Oaj2yQGD",
        "outputId": "f1a57646-15d7-46fe-85e7-e3065a0ec94a"
      },
      "execution_count": 62,
      "outputs": [
        {
          "output_type": "stream",
          "name": "stdout",
          "text": [
            "    OrderID Product     Category  Quantity  Price Customer Region  Total  \\\n",
            "1      1002   Mouse  Accessories         5     30      Bob  South    150   \n",
            "6      1007   Mouse  Accessories        10     30   George   East    300   \n",
            "13     1014   Mouse  Accessories         7     30     Nina  South    210   \n",
            "\n",
            "    Discount  FinalTotal  \n",
            "1         10          90  \n",
            "6         25         225  \n",
            "13        14         126  \n"
          ]
        }
      ]
    },
    {
      "cell_type": "code",
      "source": [
        "# Step 1: Drop Discount column\n",
        "df = df.drop(columns=[\"Discount\"])\n",
        "\n",
        "# Step 2: Drop FinalTotal column\n",
        "df = df.drop(columns=[\"FinalTotal\"])\n",
        "\n",
        "# Step 3: Show updated DataFrame\n",
        "print(df.head())\n"
      ],
      "metadata": {
        "colab": {
          "base_uri": "https://localhost:8080/"
        },
        "id": "ggdWt1uBzBKV",
        "outputId": "c7448ea5-c921-4cd2-bc88-9b9ec247e3a4"
      },
      "execution_count": 63,
      "outputs": [
        {
          "output_type": "stream",
          "name": "stdout",
          "text": [
            "   OrderID   Product     Category  Quantity  Price Customer Region  Total\n",
            "0     1001    Laptop  Electronics         2    800    Alice  North   1600\n",
            "1     1002     Mouse  Accessories         5     30      Bob  South    150\n",
            "2     1003  Keyboard  Accessories         3     50  Charlie   East    150\n",
            "3     1004   Monitor  Electronics         4    200    Diana   West    800\n",
            "4     1005    Laptop  Electronics         1    850    Ethan  North    850\n"
          ]
        }
      ]
    },
    {
      "cell_type": "code",
      "source": [
        "# Step 1: Drop row with OrderID = 1010\n",
        "df = df.drop(df[df[\"OrderID\"] == 1010].index)\n",
        "\n",
        "# Step 2: Drop the first row by index\n",
        "df = df.drop(index=df.index[0]).reset_index(drop=True)\n",
        "\n",
        "# Step 3: Print new shape\n",
        "print(\"New shape:\", df.shape)"
      ],
      "metadata": {
        "colab": {
          "base_uri": "https://localhost:8080/"
        },
        "id": "a1Gqi1SdzeN1",
        "outputId": "a5cb60fa-b69e-47a7-9bd0-0c14e7b292d7"
      },
      "execution_count": 64,
      "outputs": [
        {
          "output_type": "stream",
          "name": "stdout",
          "text": [
            "New shape: (19, 8)\n"
          ]
        }
      ]
    },
    {
      "cell_type": "code",
      "execution_count": null,
      "metadata": {
        "colab": {
          "base_uri": "https://localhost:8080/"
        },
        "id": "xT_Wk3v8wC_x",
        "outputId": "78043e6f-8828-44c3-f068-8f693a42308c"
      },
      "outputs": [
        {
          "name": "stdout",
          "output_type": "stream",
          "text": [
            "Enter your GitHub token: ··········\n"
          ]
        }
      ],
      "source": [
        "from getpass import getpass\n",
        "import os\n",
        "\n",
        "# Prompt for token — input will be hidden\n",
        "os.environ['GITHUB_TOKEN'] = getpass(\"Enter your GitHub token: \")\n"
      ]
    },
    {
      "cell_type": "code",
      "source": [
        "import os\n",
        "!git push https://{os.environ['GITHUB_TOKEN']}@github.com/Ria-t-p/dataframe-exercise.git\n"
      ],
      "metadata": {
        "colab": {
          "base_uri": "https://localhost:8080/"
        },
        "id": "OKqXO6a50aDa",
        "outputId": "36ee599f-396f-4dd6-ccb8-d2b6fdd84dc4"
      },
      "execution_count": null,
      "outputs": [
        {
          "output_type": "stream",
          "name": "stdout",
          "text": [
            "Everything up-to-date\n"
          ]
        }
      ]
    },
    {
      "cell_type": "code",
      "source": [
        "%cd /content/dataframe-exercise\n",
        "!git add exercise/dataframe-exercise.ipynb\n",
        "!git commit -m \"Update notebook with 1-3\"\n",
        "import os\n",
        "!git push https://{os.environ['GITHUB_TOKEN']}@github.com/Ria-t-p/dataframe-exercise.git\n"
      ],
      "metadata": {
        "colab": {
          "base_uri": "https://localhost:8080/"
        },
        "id": "-OYHTx8tB9o4",
        "outputId": "e0f5bd5d-05ff-41c1-9f26-521857e7b18a"
      },
      "execution_count": 57,
      "outputs": [
        {
          "output_type": "stream",
          "name": "stdout",
          "text": [
            "/content/dataframe-exercise\n",
            "[main c909cb6] Update notebook with 1-3\n",
            " 1 file changed, 171 insertions(+), 5 deletions(-)\n",
            "Enumerating objects: 7, done.\n",
            "Counting objects: 100% (7/7), done.\n",
            "Delta compression using up to 2 threads\n",
            "Compressing objects: 100% (4/4), done.\n",
            "Writing objects: 100% (4/4), 2.26 KiB | 1.13 MiB/s, done.\n",
            "Total 4 (delta 0), reused 0 (delta 0), pack-reused 0\n",
            "To https://github.com/Ria-t-p/dataframe-exercise.git\n",
            "   aff091c..c909cb6  main -> main\n"
          ]
        }
      ]
    }
  ]
}