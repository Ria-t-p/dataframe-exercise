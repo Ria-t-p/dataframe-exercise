{
  "nbformat": 4,
  "nbformat_minor": 0,
  "metadata": {
    "colab": {
      "provenance": []
    },
    "kernelspec": {
      "name": "python3",
      "display_name": "Python 3"
    },
    "language_info": {
      "name": "python"
    }
  },
  "cells": [
    {
      "cell_type": "code",
      "source": [
        "!mv /content/dataframe-exercise.ipynb exercise/\n"
      ],
      "metadata": {
        "id": "jN7112EBxaMP",
        "colab": {
          "base_uri": "https://localhost:8080/"
        },
        "outputId": "9aa49d9d-23c6-49ef-a0dd-2e590c150430"
      },
      "execution_count": 10,
      "outputs": [
        {
          "output_type": "stream",
          "name": "stdout",
          "text": [
            "mv: cannot stat '/content/dataframe-exercise.ipynb': No such file or directory\n"
          ]
        }
      ]
    },
    {
      "cell_type": "code",
      "execution_count": null,
      "metadata": {
        "colab": {
          "base_uri": "https://localhost:8080/"
        },
        "id": "xT_Wk3v8wC_x",
        "outputId": "78043e6f-8828-44c3-f068-8f693a42308c"
      },
      "outputs": [
        {
          "name": "stdout",
          "output_type": "stream",
          "text": [
            "Enter your GitHub token: ··········\n"
          ]
        }
      ],
      "source": [
        "from getpass import getpass\n",
        "import os\n",
        "\n",
        "# Prompt for token — input will be hidden\n",
        "os.environ['GITHUB_TOKEN'] = getpass(\"Enter your GitHub token: \")\n"
      ]
    }
  ]
}